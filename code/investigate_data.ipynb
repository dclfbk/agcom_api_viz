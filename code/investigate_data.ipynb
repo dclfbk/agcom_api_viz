{
 "cells": [
  {
   "cell_type": "code",
   "execution_count": 2,
   "metadata": {},
   "outputs": [],
   "source": [
    "import pandas as pd\n",
    "import os\n",
    "import warnings\n",
    "import json\n",
    "warnings.filterwarnings('ignore')"
   ]
  },
  {
   "cell_type": "code",
   "execution_count": 3,
   "metadata": {},
   "outputs": [],
   "source": [
    "data = pd.read_parquet(\"..\" + os.sep + \"docs\"  + os.sep +  \"data\" + os.sep + \"agcomdata.parquet\")"
   ]
  },
  {
   "cell_type": "code",
   "execution_count": 4,
   "metadata": {},
   "outputs": [
    {
     "data": {
      "text/plain": [
       "Index(['channel', 'program', 'day', 'lastname', 'name', 'affiliation', 'topic',\n",
       "       'duration', 'kind'],\n",
       "      dtype='object')"
      ]
     },
     "execution_count": 4,
     "metadata": {},
     "output_type": "execute_result"
    }
   ],
   "source": [
    "data.columns"
   ]
  },
  {
   "cell_type": "markdown",
   "metadata": {},
   "source": [
    "# Description\n",
    "<table>\n",
    "<tr>\n",
    "<th>columns</th>\n",
    "<th>description</th>\n",
    "<th>content</th>\n",
    "<tr>\n",
    "<tr>\n",
    "<td>channel</td><td>channel name</td><td>category</td>\n",
    "</tr>\n",
    "<tr>\n",
    "<td>program</td><td>name of the program</td><td>category</td>\n",
    "</tr>\n",
    "<tr>\n",
    "<td>day</td><td>day of the event</td><td>format dd-mm-yyyy (python datetime)</td>\n",
    "</tr>\n",
    "<tr>\n",
    "<td>name</td><td>name of the person concerned or \"political movement\" involved\"</td><td>text - if the value is \"political movement\" this means that is a political movement and you can identify the name from the field lastname </td>\n",
    "</tr>\n",
    "<tr>\n",
    "<td>lastname</td><td>surname of the person concerned or political movement</td><td>text, if name==\"political movement\" this field contains the name of the movement</td>\n",
    "</tr>\n",
    "<tr>\n",
    "<td>topic</td><td>main topic of the discussion</td><td>category</td>\n",
    "</tr>\n",
    "<tr>\n",
    "<td>affiliation</td><td>affiliation</td><td>category</td>\n",
    "</tr>\n",
    "<tr>\n",
    "<td>duration</td><td>minutes duration of intervention</td><td>integer</td>\n",
    "</tr>\n",
    "<tr>\n",
    "<td>kind</td><td>type of intervention</td><td>can take on the values talk or news</td>\n",
    "</tr>\n",
    "<tr>\n",
    "</table>"
   ]
  },
  {
   "cell_type": "code",
   "execution_count": 5,
   "metadata": {},
   "outputs": [
    {
     "data": {
      "text/plain": [
       "array(['CANALE 5', 'CIELO', 'ITALIA 1', 'LA7', 'LA7D',\n",
       "       'Mediaset TgCom 24', 'NOVE', 'RAI 1', 'RAI 2', 'RAI 3', 'RAINEWS',\n",
       "       'RETE 4', 'SKY TG 24 CAN. 50', 'SKY TG24', 'TV8', 'RTL102.5',\n",
       "       'Rai Radio1', 'Rai Radio2', 'Rai Radio3'], dtype=object)"
      ]
     },
     "execution_count": 5,
     "metadata": {},
     "output_type": "execute_result"
    }
   ],
   "source": [
    "data.channel.unique()"
   ]
  },
  {
   "cell_type": "code",
   "execution_count": 6,
   "metadata": {},
   "outputs": [
    {
     "data": {
      "text/plain": [
       "array(['TG5', 'TG5 PRIMA PAGINA', 'MATTINO CINQUE - NEWS', ...,\n",
       "       'MESSAGGIO DI FINE ANNO DEL PRESIDENTE DELLA REPUBBLICA SERGIO MATTARELLA',\n",
       "       'CLIP: FATTI ED EVENTI INTERNAZIONALI CHE HANNO CARATTERIZZATO IL 2020',\n",
       "       'CLIP: MESSAGGIO DI FINE ANNO DEL PRESIDENTE DELLA REPUBBLICA SERGIO MATTARELLA'],\n",
       "      dtype=object)"
      ]
     },
     "execution_count": 6,
     "metadata": {},
     "output_type": "execute_result"
    }
   ],
   "source": [
    "data.program.unique()"
   ]
  },
  {
   "cell_type": "code",
   "execution_count": 7,
   "metadata": {},
   "outputs": [
    {
     "data": {
      "text/plain": [
       "2   2023-01-01\n",
       "3   2023-01-01\n",
       "4   2023-01-01\n",
       "Name: day, dtype: datetime64[ns]"
      ]
     },
     "execution_count": 7,
     "metadata": {},
     "output_type": "execute_result"
    }
   ],
   "source": [
    "data.day.head(3)"
   ]
  },
  {
   "cell_type": "code",
   "execution_count": 8,
   "metadata": {},
   "outputs": [
    {
     "name": "stdout",
     "output_type": "stream",
     "text": [
      "['political movement' 'Silvio' 'Giuseppe' 'Enrico' 'Matteo']\n"
     ]
    }
   ],
   "source": [
    "name_unique = data.name.unique()\n",
    "print(name_unique[:5])"
   ]
  },
  {
   "cell_type": "code",
   "execution_count": 9,
   "metadata": {},
   "outputs": [
    {
     "data": {
      "text/plain": [
       "array(['Azione-Italia Viva-Renew Europe', 'Berlusconi', 'Conte', ...,\n",
       "       'Delli Colli', 'Calearo', 'Gramazio'], dtype=object)"
      ]
     },
     "execution_count": 9,
     "metadata": {},
     "output_type": "execute_result"
    }
   ],
   "source": [
    "data.lastname.unique()"
   ]
  },
  {
   "cell_type": "code",
   "execution_count": 10,
   "metadata": {},
   "outputs": [
    {
     "data": {
      "text/plain": [
       "2     Azione-Italia Viva-Renew Europe\n",
       "8     Azione-Italia Viva-Renew Europe\n",
       "18    Azione-Italia Viva-Renew Europe\n",
       "Name: lastname, dtype: object"
      ]
     },
     "execution_count": 10,
     "metadata": {},
     "output_type": "execute_result"
    }
   ],
   "source": [
    "data[data.name == \"political movement\"]['lastname'].head(3)"
   ]
  },
  {
   "cell_type": "code",
   "execution_count": 11,
   "metadata": {},
   "outputs": [
    {
     "data": {
      "text/plain": [
       "3    Berlusconi\n",
       "4         Conte\n",
       "5         Letta\n",
       "Name: lastname, dtype: object"
      ]
     },
     "execution_count": 11,
     "metadata": {},
     "output_type": "execute_result"
    }
   ],
   "source": [
    "data[data.name != \"political movement\"]['lastname'].head(3)"
   ]
  },
  {
   "cell_type": "code",
   "execution_count": 12,
   "metadata": {},
   "outputs": [
    {
     "data": {
      "text/plain": [
       "array(['Politica e attività istituzionali',\n",
       "       'Religione e questioni religiose', 'Medicina, salute e scienza',\n",
       "       'Esteri', 'Economia, finanza e lavoro', 'Costume e società',\n",
       "       'Sport', 'Società', 'Cronaca', 'Cultura e istruzione', 'Ambiente',\n",
       "       'Giustizia', 'Altro', 'Mass media e spettacolo', 'Programma',\n",
       "       'Fine', 'Informazioni di servizio', 'Pubblicità'], dtype=object)"
      ]
     },
     "execution_count": 12,
     "metadata": {},
     "output_type": "execute_result"
    }
   ],
   "source": [
    "data.topic.unique()"
   ]
  },
  {
   "cell_type": "code",
   "execution_count": 13,
   "metadata": {},
   "outputs": [
    {
     "name": "stdout",
     "output_type": "stream",
     "text": [
      "['Azione-Italia Viva-Renew Europe' 'PDL - Forza Italia'\n",
      " 'Movimento 5 Stelle' 'Partito Democratico' 'Lega Nord']\n"
     ]
    }
   ],
   "source": [
    "unique_affiliations = data['affiliation'].unique()\n",
    "print(unique_affiliations[:5])"
   ]
  },
  {
   "cell_type": "code",
   "execution_count": 14,
   "metadata": {},
   "outputs": [
    {
     "data": {
      "text/plain": [
       "array(['Notizia', 'Parola'], dtype=object)"
      ]
     },
     "execution_count": 14,
     "metadata": {},
     "output_type": "execute_result"
    }
   ],
   "source": [
    "data.kind.unique()"
   ]
  },
  {
   "cell_type": "code",
   "execution_count": 15,
   "metadata": {},
   "outputs": [
    {
     "data": {
      "text/plain": [
       "2     7\n",
       "3    42\n",
       "4    24\n",
       "5    25\n",
       "6    17\n",
       "Name: duration, dtype: int64"
      ]
     },
     "execution_count": 15,
     "metadata": {},
     "output_type": "execute_result"
    }
   ],
   "source": [
    "data.duration.head(5)"
   ]
  },
  {
   "cell_type": "code",
   "execution_count": 16,
   "metadata": {},
   "outputs": [
    {
     "data": {
      "text/html": [
       "<div>\n",
       "<style scoped>\n",
       "    .dataframe tbody tr th:only-of-type {\n",
       "        vertical-align: middle;\n",
       "    }\n",
       "\n",
       "    .dataframe tbody tr th {\n",
       "        vertical-align: top;\n",
       "    }\n",
       "\n",
       "    .dataframe thead th {\n",
       "        text-align: right;\n",
       "    }\n",
       "</style>\n",
       "<table border=\"1\" class=\"dataframe\">\n",
       "  <thead>\n",
       "    <tr style=\"text-align: right;\">\n",
       "      <th></th>\n",
       "      <th>channel</th>\n",
       "      <th>program</th>\n",
       "      <th>day</th>\n",
       "      <th>lastname</th>\n",
       "      <th>name</th>\n",
       "      <th>affiliation</th>\n",
       "      <th>topic</th>\n",
       "      <th>duration</th>\n",
       "      <th>kind</th>\n",
       "      <th>fullname</th>\n",
       "    </tr>\n",
       "  </thead>\n",
       "  <tbody>\n",
       "    <tr>\n",
       "      <th>2</th>\n",
       "      <td>CANALE 5</td>\n",
       "      <td>TG5</td>\n",
       "      <td>2023-01-01</td>\n",
       "      <td>Azione-Italia Viva-Renew Europe</td>\n",
       "      <td>political movement</td>\n",
       "      <td>Azione-Italia Viva-Renew Europe</td>\n",
       "      <td>Politica e attività istituzionali</td>\n",
       "      <td>7</td>\n",
       "      <td>Notizia</td>\n",
       "      <td>political movement Azione-Italia Viva-Renew Eu...</td>\n",
       "    </tr>\n",
       "    <tr>\n",
       "      <th>3</th>\n",
       "      <td>CANALE 5</td>\n",
       "      <td>TG5</td>\n",
       "      <td>2023-01-01</td>\n",
       "      <td>Berlusconi</td>\n",
       "      <td>Silvio</td>\n",
       "      <td>PDL - Forza Italia</td>\n",
       "      <td>Politica e attività istituzionali</td>\n",
       "      <td>42</td>\n",
       "      <td>Notizia</td>\n",
       "      <td>Silvio Berlusconi</td>\n",
       "    </tr>\n",
       "    <tr>\n",
       "      <th>4</th>\n",
       "      <td>CANALE 5</td>\n",
       "      <td>TG5</td>\n",
       "      <td>2023-01-01</td>\n",
       "      <td>Conte</td>\n",
       "      <td>Giuseppe</td>\n",
       "      <td>Movimento 5 Stelle</td>\n",
       "      <td>Politica e attività istituzionali</td>\n",
       "      <td>24</td>\n",
       "      <td>Notizia</td>\n",
       "      <td>Giuseppe Conte</td>\n",
       "    </tr>\n",
       "    <tr>\n",
       "      <th>5</th>\n",
       "      <td>CANALE 5</td>\n",
       "      <td>TG5</td>\n",
       "      <td>2023-01-01</td>\n",
       "      <td>Letta</td>\n",
       "      <td>Enrico</td>\n",
       "      <td>Partito Democratico</td>\n",
       "      <td>Politica e attività istituzionali</td>\n",
       "      <td>25</td>\n",
       "      <td>Notizia</td>\n",
       "      <td>Enrico Letta</td>\n",
       "    </tr>\n",
       "    <tr>\n",
       "      <th>6</th>\n",
       "      <td>CANALE 5</td>\n",
       "      <td>TG5</td>\n",
       "      <td>2023-01-01</td>\n",
       "      <td>Renzi</td>\n",
       "      <td>Matteo</td>\n",
       "      <td>Azione-Italia Viva-Renew Europe</td>\n",
       "      <td>Politica e attività istituzionali</td>\n",
       "      <td>17</td>\n",
       "      <td>Notizia</td>\n",
       "      <td>Matteo Renzi</td>\n",
       "    </tr>\n",
       "    <tr>\n",
       "      <th>...</th>\n",
       "      <td>...</td>\n",
       "      <td>...</td>\n",
       "      <td>...</td>\n",
       "      <td>...</td>\n",
       "      <td>...</td>\n",
       "      <td>...</td>\n",
       "      <td>...</td>\n",
       "      <td>...</td>\n",
       "      <td>...</td>\n",
       "      <td>...</td>\n",
       "    </tr>\n",
       "    <tr>\n",
       "      <th>30508</th>\n",
       "      <td>TV8</td>\n",
       "      <td>TG8</td>\n",
       "      <td>2021-01-30</td>\n",
       "      <td>Fontana</td>\n",
       "      <td>Attilio</td>\n",
       "      <td>Lega Nord</td>\n",
       "      <td>Medicina, salute e scienza</td>\n",
       "      <td>11</td>\n",
       "      <td>Parola</td>\n",
       "      <td>Attilio Fontana</td>\n",
       "    </tr>\n",
       "    <tr>\n",
       "      <th>30509</th>\n",
       "      <td>TV8</td>\n",
       "      <td>TG8</td>\n",
       "      <td>2021-01-30</td>\n",
       "      <td>Mattarella</td>\n",
       "      <td>Sergio</td>\n",
       "      <td>Presidente della Repubblica</td>\n",
       "      <td>Politica e attività istituzionali</td>\n",
       "      <td>41</td>\n",
       "      <td>Parola</td>\n",
       "      <td>Sergio Mattarella</td>\n",
       "    </tr>\n",
       "    <tr>\n",
       "      <th>30510</th>\n",
       "      <td>TV8</td>\n",
       "      <td>TG8</td>\n",
       "      <td>2021-01-31</td>\n",
       "      <td>Movimento 5 Stelle</td>\n",
       "      <td>political movement</td>\n",
       "      <td>Movimento 5 Stelle</td>\n",
       "      <td>Politica e attività istituzionali</td>\n",
       "      <td>3</td>\n",
       "      <td>Notizia</td>\n",
       "      <td>political movement Movimento 5 Stelle</td>\n",
       "    </tr>\n",
       "    <tr>\n",
       "      <th>30511</th>\n",
       "      <td>TV8</td>\n",
       "      <td>TG8</td>\n",
       "      <td>2021-01-31</td>\n",
       "      <td>Partito Democratico</td>\n",
       "      <td>political movement</td>\n",
       "      <td>Partito Democratico</td>\n",
       "      <td>Politica e attività istituzionali</td>\n",
       "      <td>4</td>\n",
       "      <td>Notizia</td>\n",
       "      <td>political movement Partito Democratico</td>\n",
       "    </tr>\n",
       "    <tr>\n",
       "      <th>30512</th>\n",
       "      <td>TV8</td>\n",
       "      <td>TG8</td>\n",
       "      <td>2021-01-31</td>\n",
       "      <td>Renzi</td>\n",
       "      <td>Matteo</td>\n",
       "      <td>Italia Viva-Psi</td>\n",
       "      <td>Politica e attività istituzionali</td>\n",
       "      <td>27</td>\n",
       "      <td>Parola</td>\n",
       "      <td>Matteo Renzi</td>\n",
       "    </tr>\n",
       "  </tbody>\n",
       "</table>\n",
       "<p>1293757 rows × 10 columns</p>\n",
       "</div>"
      ],
      "text/plain": [
       "        channel program        day                         lastname  \\\n",
       "2      CANALE 5     TG5 2023-01-01  Azione-Italia Viva-Renew Europe   \n",
       "3      CANALE 5     TG5 2023-01-01                       Berlusconi   \n",
       "4      CANALE 5     TG5 2023-01-01                            Conte   \n",
       "5      CANALE 5     TG5 2023-01-01                            Letta   \n",
       "6      CANALE 5     TG5 2023-01-01                            Renzi   \n",
       "...         ...     ...        ...                              ...   \n",
       "30508       TV8     TG8 2021-01-30                          Fontana   \n",
       "30509       TV8     TG8 2021-01-30                       Mattarella   \n",
       "30510       TV8     TG8 2021-01-31               Movimento 5 Stelle   \n",
       "30511       TV8     TG8 2021-01-31              Partito Democratico   \n",
       "30512       TV8     TG8 2021-01-31                            Renzi   \n",
       "\n",
       "                     name                      affiliation  \\\n",
       "2      political movement  Azione-Italia Viva-Renew Europe   \n",
       "3                  Silvio               PDL - Forza Italia   \n",
       "4                Giuseppe               Movimento 5 Stelle   \n",
       "5                  Enrico              Partito Democratico   \n",
       "6                  Matteo  Azione-Italia Viva-Renew Europe   \n",
       "...                   ...                              ...   \n",
       "30508             Attilio                        Lega Nord   \n",
       "30509              Sergio      Presidente della Repubblica   \n",
       "30510  political movement               Movimento 5 Stelle   \n",
       "30511  political movement              Partito Democratico   \n",
       "30512              Matteo                  Italia Viva-Psi   \n",
       "\n",
       "                                   topic  duration     kind  \\\n",
       "2      Politica e attività istituzionali         7  Notizia   \n",
       "3      Politica e attività istituzionali        42  Notizia   \n",
       "4      Politica e attività istituzionali        24  Notizia   \n",
       "5      Politica e attività istituzionali        25  Notizia   \n",
       "6      Politica e attività istituzionali        17  Notizia   \n",
       "...                                  ...       ...      ...   \n",
       "30508         Medicina, salute e scienza        11   Parola   \n",
       "30509  Politica e attività istituzionali        41   Parola   \n",
       "30510  Politica e attività istituzionali         3  Notizia   \n",
       "30511  Politica e attività istituzionali         4  Notizia   \n",
       "30512  Politica e attività istituzionali        27   Parola   \n",
       "\n",
       "                                                fullname  \n",
       "2      political movement Azione-Italia Viva-Renew Eu...  \n",
       "3                                      Silvio Berlusconi  \n",
       "4                                         Giuseppe Conte  \n",
       "5                                           Enrico Letta  \n",
       "6                                           Matteo Renzi  \n",
       "...                                                  ...  \n",
       "30508                                    Attilio Fontana  \n",
       "30509                                  Sergio Mattarella  \n",
       "30510              political movement Movimento 5 Stelle  \n",
       "30511             political movement Partito Democratico  \n",
       "30512                                       Matteo Renzi  \n",
       "\n",
       "[1293757 rows x 10 columns]"
      ]
     },
     "execution_count": 16,
     "metadata": {},
     "output_type": "execute_result"
    }
   ],
   "source": [
    "data[\"fullname\"] = data['name'] + \" \" + data['lastname']\n",
    "#data[data['name'] == \"political movement\"]\n",
    "data"
   ]
  },
  {
   "cell_type": "code",
   "execution_count": null,
   "metadata": {},
   "outputs": [],
   "source": [
    "#divide political groups (var-->political_groups) and politicians (var-->politicians) in an array with names\n",
    "\n",
    "political_groups = data[data['name'] == \"political movement\"].lastname.unique()\n",
    "\n",
    "politicians = data[data['name'] != \"political movement\"]\n",
    "politicians = politicians.fullname.unique()"
   ]
  },
  {
   "cell_type": "code",
   "execution_count": null,
   "metadata": {},
   "outputs": [],
   "source": [
    "#find all values of all columns (var: channel, program, affiliation, topic) all arrays\n",
    "\n",
    "channels = data.channel.unique()\n",
    "programs = data.program.unique()\n",
    "affiliations = data.affiliation.unique()\n",
    "topics = data.topic.unique()"
   ]
  },
  {
   "cell_type": "code",
   "execution_count": null,
   "metadata": {},
   "outputs": [],
   "source": [
    "#how much a politician talked about all the possible topics (politicianTopics --> json variable {\"topic\", \"minutes\", \"interventions\"})\n",
    "\n",
    "n = \"Silvio Berlusconi\"\n",
    "\n",
    "x = data[data['fullname'] == n]\n",
    "politicianTopics = []\n",
    "\n",
    "\n",
    "for t in topics:\n",
    "  y = x[x['topic'] == t]\n",
    "  sum = y[\"duration\"].sum()\n",
    "  politicianTopics.append({\"topic\": t, \"minutes\" : sum, \"interventions\" : y.shape[0]})\n",
    "\n",
    "\n",
    "#how much a political group talked about all the possible topics (polGroupTopics --> json variable {\"topic\", \"minutes\", \"interventions\"})\n",
    "\n",
    "m = \"Azione-Italia Viva-Renew Europe\"\n",
    "\n",
    "w = data[data['lastname'] == n]\n",
    "polGroupTopics = []\n",
    "\n",
    "\n",
    "for t in topics:\n",
    "  z = w[w['topic'] == t]\n",
    "  sum = z[\"duration\"].sum()\n",
    "  polGroupTopics.append({\"topic\": t, \"minutes\" : sum, \"interventions\" : z.shape[0]})"
   ]
  },
  {
   "cell_type": "code",
   "execution_count": null,
   "metadata": {},
   "outputs": [],
   "source": [
    "#how much a politician talked in a specific channel (politicianChannels --> json variable {\"channel\", \"minutes\", \"interventions\"})\n",
    "\n",
    "n = \"Silvio Berlusconi\"\n",
    "\n",
    "x = data[data['fullname'] == n]\n",
    "politicianChannels = []\n",
    "\n",
    "for c in channels:\n",
    "  y = x[x['channel'] == c]\n",
    "  sum = y[\"duration\"].sum()\n",
    "  politicianChannels.append({\"channel\": c, \"minutes\" : sum, \"interventions\" : y.shape[0]})\n",
    "\n",
    "\n",
    "#how much a political group talked in a specific channel (polGroupChannels --> json variable {\"channel\", \"minutes\", \"interventions\"})\n",
    "\n",
    "m = \"Azione-Italia Viva-Renew Europe\"\n",
    "\n",
    "w = data[data['lastname'] == n]\n",
    "polGroupChannels = []\n",
    "\n",
    "\n",
    "for c in channels:\n",
    "  z = w[w['channel'] == c]\n",
    "  sum = z[\"duration\"].sum()\n",
    "  polGroupChannels.append({\"topic\": c, \"minutes\" : sum, \"interventions\" : z.shape[0]})"
   ]
  },
  {
   "cell_type": "code",
   "execution_count": null,
   "metadata": {},
   "outputs": [],
   "source": [
    "#how many politicians participate (have participated) in every political group (politiciansInAffiliation --> json variable {\"affiliation\", \"politicians\"[] })\n",
    "\n",
    "politiciansInAffiliation = []\n",
    "\n",
    "for a in affiliations:\n",
    "  x = data[data['affiliation'] == a]\n",
    "  y = x[x['name'] != \"political movement\"]\n",
    "  politiciansInAffiliation.append({\"affiliation\": a, \"politicians\": y.fullname.unique()})"
   ]
  },
  {
   "cell_type": "code",
   "execution_count": null,
   "metadata": {},
   "outputs": [],
   "source": [
    "#how much a political group has intervened in tv (interventionsPoliticalGroup --> json variable {\"affiliation\", \"interventions\", \"minutes\"})\n",
    "\n",
    "interventionsPoliticalGroup = []\n",
    "\n",
    "for a in affiliations:\n",
    "  x = data[data['affiliation'] == a]\n",
    "  sum = x[\"duration\"].sum()\n",
    "  interventionsPoliticalGroup.append({\"affiliation\": a, \"interventions\": x.shape[0], \"minutes\": sum})"
   ]
  },
  {
   "cell_type": "code",
   "execution_count": null,
   "metadata": {},
   "outputs": [],
   "source": [
    "#how many political groups a politician have participated in (politicianPoliticalGroups[])\n",
    "\n",
    "n = \"Matteo Renzi\"\n",
    "\n",
    "x = data[data[\"fullname\"] == n]\n",
    "\n",
    "politicianPoliticalGroups = x.affiliation.unique()"
   ]
  }
 ],
 "metadata": {
  "kernelspec": {
   "display_name": "Python 3",
   "language": "python",
   "name": "python3"
  },
  "language_info": {
   "codemirror_mode": {
    "name": "ipython",
    "version": 3
   },
   "file_extension": ".py",
   "mimetype": "text/x-python",
   "name": "python",
   "nbconvert_exporter": "python",
   "pygments_lexer": "ipython3",
   "version": "3.12.3"
  }
 },
 "nbformat": 4,
 "nbformat_minor": 2
}
