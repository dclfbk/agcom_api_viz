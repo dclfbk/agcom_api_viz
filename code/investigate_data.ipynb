{
 "cells": [
  {
   "cell_type": "code",
   "execution_count": 50,
   "metadata": {},
   "outputs": [],
   "source": [
    "import pandas as pd\n",
    "import os\n",
    "import warnings\n",
    "warnings.filterwarnings('ignore')"
   ]
  },
  {
   "cell_type": "code",
   "execution_count": 51,
   "metadata": {},
   "outputs": [],
   "source": [
    "data = pd.read_parquet(\"..\" + os.sep + \"docs\"  + os.sep +  \"data\" + os.sep + \"agcomdata.parquet\")"
   ]
  },
  {
   "cell_type": "code",
   "execution_count": 52,
   "metadata": {},
   "outputs": [
    {
     "data": {
      "text/plain": [
       "Index(['channel', 'program', 'day', 'lastname', 'name', 'affiliation', 'topic',\n",
       "       'duration', 'kind'],\n",
       "      dtype='object')"
      ]
     },
     "execution_count": 52,
     "metadata": {},
     "output_type": "execute_result"
    }
   ],
   "source": [
    "data.columns"
   ]
  },
  {
   "cell_type": "markdown",
   "metadata": {},
   "source": [
    "# Description\n",
    "<table>\n",
    "<tr>\n",
    "<th>columns</th>\n",
    "<th>description</th>\n",
    "<th>content</th>\n",
    "<tr>\n",
    "<tr>\n",
    "<td>channel</td><td>channel name</td><td>category</td>\n",
    "</tr>\n",
    "<tr>\n",
    "<td>program</td><td>name of the program</td><td>category</td>\n",
    "</tr>\n",
    "<tr>\n",
    "<td>day</td><td>day of the event</td><td>format dd-mm-yyyy (python datetime)</td>\n",
    "</tr>\n",
    "<tr>\n",
    "<td>name</td><td>name of the person concerned or \"political movement\" involved\"</td><td>text - if the value is \"political movement\" this means that is a political movement and you can identify the name from the field lastname </td>\n",
    "</tr>\n",
    "<tr>\n",
    "<td>lastname</td><td>surname of the person concerned or political movement</td><td>text, if name==\"political movement\" this field contains the name of the movement</td>\n",
    "</tr>\n",
    "<tr>\n",
    "<td>topic</td><td>main topic of the discussion</td><td>category</td>\n",
    "</tr>\n",
    "<tr>\n",
    "<td>affiliation</td><td>affiliation</td><td>category</td>\n",
    "</tr>\n",
    "<tr>\n",
    "<td>duration</td><td>minutes duration of intervention</td><td>integer</td>\n",
    "</tr>\n",
    "<tr>\n",
    "<td>kind</td><td>type of intervention</td><td>can take on the values talk or news</td>\n",
    "</tr>\n",
    "<tr>\n",
    "</table>"
   ]
  },
  {
   "cell_type": "code",
   "execution_count": 53,
   "metadata": {},
   "outputs": [
    {
     "data": {
      "text/plain": [
       "array(['CANALE 5', 'CIELO', 'ITALIA 1', 'LA7', 'LA7D',\n",
       "       'Mediaset TgCom 24', 'NOVE', 'RAI 1', 'RAI 2', 'RAI 3', 'RAINEWS',\n",
       "       'RETE 4', 'SKY TG 24 CAN. 50', 'SKY TG24', 'TV8', 'RTL102.5',\n",
       "       'Rai Radio1', 'Rai Radio2', 'Rai Radio3'], dtype=object)"
      ]
     },
     "execution_count": 53,
     "metadata": {},
     "output_type": "execute_result"
    }
   ],
   "source": [
    "data.channel.unique()"
   ]
  },
  {
   "cell_type": "code",
   "execution_count": 54,
   "metadata": {},
   "outputs": [
    {
     "data": {
      "text/plain": [
       "array(['TG5', 'TG5 PRIMA PAGINA', 'MATTINO CINQUE - NEWS', ...,\n",
       "       'MESSAGGIO DI FINE ANNO DEL PRESIDENTE DELLA REPUBBLICA SERGIO MATTARELLA',\n",
       "       'CLIP: FATTI ED EVENTI INTERNAZIONALI CHE HANNO CARATTERIZZATO IL 2020',\n",
       "       'CLIP: MESSAGGIO DI FINE ANNO DEL PRESIDENTE DELLA REPUBBLICA SERGIO MATTARELLA'],\n",
       "      dtype=object)"
      ]
     },
     "execution_count": 54,
     "metadata": {},
     "output_type": "execute_result"
    }
   ],
   "source": [
    "data.program.unique()"
   ]
  },
  {
   "cell_type": "code",
   "execution_count": 55,
   "metadata": {},
   "outputs": [
    {
     "data": {
      "text/plain": [
       "2   2023-01-01\n",
       "3   2023-01-01\n",
       "4   2023-01-01\n",
       "Name: day, dtype: datetime64[ns]"
      ]
     },
     "execution_count": 55,
     "metadata": {},
     "output_type": "execute_result"
    }
   ],
   "source": [
    "data.day.head(3)"
   ]
  },
  {
   "cell_type": "code",
   "execution_count": 56,
   "metadata": {},
   "outputs": [
    {
     "name": "stdout",
     "output_type": "stream",
     "text": [
      "['political movement' 'Silvio' 'Giuseppe' 'Enrico' 'Matteo']\n"
     ]
    }
   ],
   "source": [
    "name_unique = data.name.unique()\n",
    "print(name_unique[:5])"
   ]
  },
  {
   "cell_type": "code",
   "execution_count": 57,
   "metadata": {},
   "outputs": [
    {
     "data": {
      "text/plain": [
       "array(['Azione-Italia Viva-Renew Europe', 'Berlusconi', 'Conte', ...,\n",
       "       'Delli Colli', 'Calearo', 'Gramazio'], dtype=object)"
      ]
     },
     "execution_count": 57,
     "metadata": {},
     "output_type": "execute_result"
    }
   ],
   "source": [
    "data.lastname.unique()"
   ]
  },
  {
   "cell_type": "code",
   "execution_count": 58,
   "metadata": {},
   "outputs": [
    {
     "data": {
      "text/plain": [
       "2     Azione-Italia Viva-Renew Europe\n",
       "8     Azione-Italia Viva-Renew Europe\n",
       "18    Azione-Italia Viva-Renew Europe\n",
       "Name: lastname, dtype: object"
      ]
     },
     "execution_count": 58,
     "metadata": {},
     "output_type": "execute_result"
    }
   ],
   "source": [
    "data[data.name == \"political movement\"]['lastname'].head(3)"
   ]
  },
  {
   "cell_type": "code",
   "execution_count": 59,
   "metadata": {},
   "outputs": [
    {
     "data": {
      "text/plain": [
       "3    Berlusconi\n",
       "4         Conte\n",
       "5         Letta\n",
       "Name: lastname, dtype: object"
      ]
     },
     "execution_count": 59,
     "metadata": {},
     "output_type": "execute_result"
    }
   ],
   "source": [
    "data[data.name != \"political movement\"]['lastname'].head(3)"
   ]
  },
  {
   "cell_type": "code",
   "execution_count": 60,
   "metadata": {},
   "outputs": [
    {
     "data": {
      "text/plain": [
       "array(['Politica e attività istituzionali',\n",
       "       'Religione e questioni religiose', 'Medicina, salute e scienza',\n",
       "       'Esteri', 'Economia, finanza e lavoro', 'Costume e società',\n",
       "       'Sport', 'Società', 'Cronaca', 'Cultura e istruzione', 'Ambiente',\n",
       "       'Giustizia', 'Altro', 'Mass media e spettacolo', 'Programma',\n",
       "       'Fine', 'Informazioni di servizio', 'Pubblicità'], dtype=object)"
      ]
     },
     "execution_count": 60,
     "metadata": {},
     "output_type": "execute_result"
    }
   ],
   "source": [
    "data.topic.unique()"
   ]
  },
  {
   "cell_type": "code",
   "execution_count": 61,
   "metadata": {},
   "outputs": [
    {
     "name": "stdout",
     "output_type": "stream",
     "text": [
      "['Azione-Italia Viva-Renew Europe' 'PDL - Forza Italia'\n",
      " 'Movimento 5 Stelle' 'Partito Democratico' 'Lega Nord']\n"
     ]
    }
   ],
   "source": [
    "unique_affiliations = data['affiliation'].unique()\n",
    "print(unique_affiliations[:5])"
   ]
  },
  {
   "cell_type": "code",
   "execution_count": 62,
   "metadata": {},
   "outputs": [
    {
     "data": {
      "text/plain": [
       "array(['Notizia', 'Parola'], dtype=object)"
      ]
     },
     "execution_count": 62,
     "metadata": {},
     "output_type": "execute_result"
    }
   ],
   "source": [
    "data.kind.unique()"
   ]
  },
  {
   "cell_type": "code",
   "execution_count": 63,
   "metadata": {},
   "outputs": [
    {
     "data": {
      "text/plain": [
       "2     7\n",
       "3    42\n",
       "4    24\n",
       "5    25\n",
       "6    17\n",
       "Name: duration, dtype: int64"
      ]
     },
     "execution_count": 63,
     "metadata": {},
     "output_type": "execute_result"
    }
   ],
   "source": [
    "data.duration.head(5)"
   ]
  }
 ],
 "metadata": {
  "kernelspec": {
   "display_name": "Python 3",
   "language": "python",
   "name": "python3"
  },
  "language_info": {
   "codemirror_mode": {
    "name": "ipython",
    "version": 3
   },
   "file_extension": ".py",
   "mimetype": "text/x-python",
   "name": "python",
   "nbconvert_exporter": "python",
   "pygments_lexer": "ipython3",
   "version": "3.11.6"
  }
 },
 "nbformat": 4,
 "nbformat_minor": 2
}
